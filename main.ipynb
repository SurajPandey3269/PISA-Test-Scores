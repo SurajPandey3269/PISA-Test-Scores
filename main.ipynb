{
  "cells": [
    {
      "cell_type": "code",
      "execution_count": 1,
      "id": "36a51ec7",
      "metadata": {
        "id": "36a51ec7"
      },
      "outputs": [],
      "source": [
        "import pandas as pd\n",
        "import seaborn as sns\n",
        "import matplotlib.pyplot as plt"
      ]
    },
    {
      "cell_type": "code",
      "execution_count": 2,
      "id": "104fd238",
      "metadata": {
        "id": "104fd238",
        "outputId": "73d94ae2-2fe2-4185-8859-cf5ae4a806c6",
        "colab": {
          "base_uri": "https://localhost:8080/",
          "height": 316
        }
      },
      "outputs": [
        {
          "output_type": "error",
          "ename": "FileNotFoundError",
          "evalue": "[Errno 2] No such file or directory: 'archive/pisa2009train.csv'",
          "traceback": [
            "\u001b[0;31m---------------------------------------------------------------------------\u001b[0m",
            "\u001b[0;31mFileNotFoundError\u001b[0m                         Traceback (most recent call last)",
            "\u001b[0;32m/tmp/ipython-input-2-705084010.py\u001b[0m in \u001b[0;36m<cell line: 0>\u001b[0;34m()\u001b[0m\n\u001b[1;32m      1\u001b[0m \u001b[0mpath\u001b[0m \u001b[0;34m=\u001b[0m \u001b[0;34mr'archive/pisa2009train.csv'\u001b[0m\u001b[0;34m\u001b[0m\u001b[0;34m\u001b[0m\u001b[0m\n\u001b[0;32m----> 2\u001b[0;31m \u001b[0mdf\u001b[0m \u001b[0;34m=\u001b[0m \u001b[0mpd\u001b[0m\u001b[0;34m.\u001b[0m\u001b[0mread_csv\u001b[0m\u001b[0;34m(\u001b[0m\u001b[0mpath\u001b[0m\u001b[0;34m)\u001b[0m\u001b[0;34m\u001b[0m\u001b[0;34m\u001b[0m\u001b[0m\n\u001b[0m",
            "\u001b[0;32m/usr/local/lib/python3.11/dist-packages/pandas/io/parsers/readers.py\u001b[0m in \u001b[0;36mread_csv\u001b[0;34m(filepath_or_buffer, sep, delimiter, header, names, index_col, usecols, dtype, engine, converters, true_values, false_values, skipinitialspace, skiprows, skipfooter, nrows, na_values, keep_default_na, na_filter, verbose, skip_blank_lines, parse_dates, infer_datetime_format, keep_date_col, date_parser, date_format, dayfirst, cache_dates, iterator, chunksize, compression, thousands, decimal, lineterminator, quotechar, quoting, doublequote, escapechar, comment, encoding, encoding_errors, dialect, on_bad_lines, delim_whitespace, low_memory, memory_map, float_precision, storage_options, dtype_backend)\u001b[0m\n\u001b[1;32m   1024\u001b[0m     \u001b[0mkwds\u001b[0m\u001b[0;34m.\u001b[0m\u001b[0mupdate\u001b[0m\u001b[0;34m(\u001b[0m\u001b[0mkwds_defaults\u001b[0m\u001b[0;34m)\u001b[0m\u001b[0;34m\u001b[0m\u001b[0;34m\u001b[0m\u001b[0m\n\u001b[1;32m   1025\u001b[0m \u001b[0;34m\u001b[0m\u001b[0m\n\u001b[0;32m-> 1026\u001b[0;31m     \u001b[0;32mreturn\u001b[0m \u001b[0m_read\u001b[0m\u001b[0;34m(\u001b[0m\u001b[0mfilepath_or_buffer\u001b[0m\u001b[0;34m,\u001b[0m \u001b[0mkwds\u001b[0m\u001b[0;34m)\u001b[0m\u001b[0;34m\u001b[0m\u001b[0;34m\u001b[0m\u001b[0m\n\u001b[0m\u001b[1;32m   1027\u001b[0m \u001b[0;34m\u001b[0m\u001b[0m\n\u001b[1;32m   1028\u001b[0m \u001b[0;34m\u001b[0m\u001b[0m\n",
            "\u001b[0;32m/usr/local/lib/python3.11/dist-packages/pandas/io/parsers/readers.py\u001b[0m in \u001b[0;36m_read\u001b[0;34m(filepath_or_buffer, kwds)\u001b[0m\n\u001b[1;32m    618\u001b[0m \u001b[0;34m\u001b[0m\u001b[0m\n\u001b[1;32m    619\u001b[0m     \u001b[0;31m# Create the parser.\u001b[0m\u001b[0;34m\u001b[0m\u001b[0;34m\u001b[0m\u001b[0m\n\u001b[0;32m--> 620\u001b[0;31m     \u001b[0mparser\u001b[0m \u001b[0;34m=\u001b[0m \u001b[0mTextFileReader\u001b[0m\u001b[0;34m(\u001b[0m\u001b[0mfilepath_or_buffer\u001b[0m\u001b[0;34m,\u001b[0m \u001b[0;34m**\u001b[0m\u001b[0mkwds\u001b[0m\u001b[0;34m)\u001b[0m\u001b[0;34m\u001b[0m\u001b[0;34m\u001b[0m\u001b[0m\n\u001b[0m\u001b[1;32m    621\u001b[0m \u001b[0;34m\u001b[0m\u001b[0m\n\u001b[1;32m    622\u001b[0m     \u001b[0;32mif\u001b[0m \u001b[0mchunksize\u001b[0m \u001b[0;32mor\u001b[0m \u001b[0miterator\u001b[0m\u001b[0;34m:\u001b[0m\u001b[0;34m\u001b[0m\u001b[0;34m\u001b[0m\u001b[0m\n",
            "\u001b[0;32m/usr/local/lib/python3.11/dist-packages/pandas/io/parsers/readers.py\u001b[0m in \u001b[0;36m__init__\u001b[0;34m(self, f, engine, **kwds)\u001b[0m\n\u001b[1;32m   1618\u001b[0m \u001b[0;34m\u001b[0m\u001b[0m\n\u001b[1;32m   1619\u001b[0m         \u001b[0mself\u001b[0m\u001b[0;34m.\u001b[0m\u001b[0mhandles\u001b[0m\u001b[0;34m:\u001b[0m \u001b[0mIOHandles\u001b[0m \u001b[0;34m|\u001b[0m \u001b[0;32mNone\u001b[0m \u001b[0;34m=\u001b[0m \u001b[0;32mNone\u001b[0m\u001b[0;34m\u001b[0m\u001b[0;34m\u001b[0m\u001b[0m\n\u001b[0;32m-> 1620\u001b[0;31m         \u001b[0mself\u001b[0m\u001b[0;34m.\u001b[0m\u001b[0m_engine\u001b[0m \u001b[0;34m=\u001b[0m \u001b[0mself\u001b[0m\u001b[0;34m.\u001b[0m\u001b[0m_make_engine\u001b[0m\u001b[0;34m(\u001b[0m\u001b[0mf\u001b[0m\u001b[0;34m,\u001b[0m \u001b[0mself\u001b[0m\u001b[0;34m.\u001b[0m\u001b[0mengine\u001b[0m\u001b[0;34m)\u001b[0m\u001b[0;34m\u001b[0m\u001b[0;34m\u001b[0m\u001b[0m\n\u001b[0m\u001b[1;32m   1621\u001b[0m \u001b[0;34m\u001b[0m\u001b[0m\n\u001b[1;32m   1622\u001b[0m     \u001b[0;32mdef\u001b[0m \u001b[0mclose\u001b[0m\u001b[0;34m(\u001b[0m\u001b[0mself\u001b[0m\u001b[0;34m)\u001b[0m \u001b[0;34m->\u001b[0m \u001b[0;32mNone\u001b[0m\u001b[0;34m:\u001b[0m\u001b[0;34m\u001b[0m\u001b[0;34m\u001b[0m\u001b[0m\n",
            "\u001b[0;32m/usr/local/lib/python3.11/dist-packages/pandas/io/parsers/readers.py\u001b[0m in \u001b[0;36m_make_engine\u001b[0;34m(self, f, engine)\u001b[0m\n\u001b[1;32m   1878\u001b[0m                 \u001b[0;32mif\u001b[0m \u001b[0;34m\"b\"\u001b[0m \u001b[0;32mnot\u001b[0m \u001b[0;32min\u001b[0m \u001b[0mmode\u001b[0m\u001b[0;34m:\u001b[0m\u001b[0;34m\u001b[0m\u001b[0;34m\u001b[0m\u001b[0m\n\u001b[1;32m   1879\u001b[0m                     \u001b[0mmode\u001b[0m \u001b[0;34m+=\u001b[0m \u001b[0;34m\"b\"\u001b[0m\u001b[0;34m\u001b[0m\u001b[0;34m\u001b[0m\u001b[0m\n\u001b[0;32m-> 1880\u001b[0;31m             self.handles = get_handle(\n\u001b[0m\u001b[1;32m   1881\u001b[0m                 \u001b[0mf\u001b[0m\u001b[0;34m,\u001b[0m\u001b[0;34m\u001b[0m\u001b[0;34m\u001b[0m\u001b[0m\n\u001b[1;32m   1882\u001b[0m                 \u001b[0mmode\u001b[0m\u001b[0;34m,\u001b[0m\u001b[0;34m\u001b[0m\u001b[0;34m\u001b[0m\u001b[0m\n",
            "\u001b[0;32m/usr/local/lib/python3.11/dist-packages/pandas/io/common.py\u001b[0m in \u001b[0;36mget_handle\u001b[0;34m(path_or_buf, mode, encoding, compression, memory_map, is_text, errors, storage_options)\u001b[0m\n\u001b[1;32m    871\u001b[0m         \u001b[0;32mif\u001b[0m \u001b[0mioargs\u001b[0m\u001b[0;34m.\u001b[0m\u001b[0mencoding\u001b[0m \u001b[0;32mand\u001b[0m \u001b[0;34m\"b\"\u001b[0m \u001b[0;32mnot\u001b[0m \u001b[0;32min\u001b[0m \u001b[0mioargs\u001b[0m\u001b[0;34m.\u001b[0m\u001b[0mmode\u001b[0m\u001b[0;34m:\u001b[0m\u001b[0;34m\u001b[0m\u001b[0;34m\u001b[0m\u001b[0m\n\u001b[1;32m    872\u001b[0m             \u001b[0;31m# Encoding\u001b[0m\u001b[0;34m\u001b[0m\u001b[0;34m\u001b[0m\u001b[0m\n\u001b[0;32m--> 873\u001b[0;31m             handle = open(\n\u001b[0m\u001b[1;32m    874\u001b[0m                 \u001b[0mhandle\u001b[0m\u001b[0;34m,\u001b[0m\u001b[0;34m\u001b[0m\u001b[0;34m\u001b[0m\u001b[0m\n\u001b[1;32m    875\u001b[0m                 \u001b[0mioargs\u001b[0m\u001b[0;34m.\u001b[0m\u001b[0mmode\u001b[0m\u001b[0;34m,\u001b[0m\u001b[0;34m\u001b[0m\u001b[0;34m\u001b[0m\u001b[0m\n",
            "\u001b[0;31mFileNotFoundError\u001b[0m: [Errno 2] No such file or directory: 'archive/pisa2009train.csv'"
          ]
        }
      ],
      "source": [
        "path = r'archive/pisa2009train.csv'\n",
        "df = pd.read_csv(path)"
      ]
    },
    {
      "cell_type": "markdown",
      "id": "3a8d67a2",
      "metadata": {
        "id": "3a8d67a2"
      },
      "source": [
        "### 1. Data Exploration and Cleaning\n",
        "- **Check for missing values**: Identify which variables have NA values and decide how to handle them (imputation, removal, etc.)\n",
        "\n",
        "- **Examine variable distributions**: Look at histograms/boxplots for numeric variables and frequency tables for categorical ones\n",
        "\n",
        "- **Check for outliers**: Especially in the readingScore and schoolSize variables"
      ]
    },
    {
      "cell_type": "code",
      "execution_count": null,
      "id": "cf57bf65",
      "metadata": {
        "id": "cf57bf65",
        "outputId": "e3372865-4383-4594-ae10-338855aa7534"
      },
      "outputs": [
        {
          "data": {
            "application/vnd.microsoft.datawrangler.viewer.v0+json": {
              "columns": [
                {
                  "name": "index",
                  "rawType": "int64",
                  "type": "integer"
                },
                {
                  "name": "grade",
                  "rawType": "int64",
                  "type": "integer"
                },
                {
                  "name": "male",
                  "rawType": "int64",
                  "type": "integer"
                },
                {
                  "name": "raceeth",
                  "rawType": "object",
                  "type": "unknown"
                },
                {
                  "name": "preschool",
                  "rawType": "float64",
                  "type": "float"
                },
                {
                  "name": "expectBachelors",
                  "rawType": "float64",
                  "type": "float"
                },
                {
                  "name": "motherHS",
                  "rawType": "float64",
                  "type": "float"
                },
                {
                  "name": "motherBachelors",
                  "rawType": "float64",
                  "type": "float"
                },
                {
                  "name": "motherWork",
                  "rawType": "float64",
                  "type": "float"
                },
                {
                  "name": "fatherHS",
                  "rawType": "float64",
                  "type": "float"
                },
                {
                  "name": "fatherBachelors",
                  "rawType": "float64",
                  "type": "float"
                },
                {
                  "name": "fatherWork",
                  "rawType": "float64",
                  "type": "float"
                },
                {
                  "name": "selfBornUS",
                  "rawType": "float64",
                  "type": "float"
                },
                {
                  "name": "motherBornUS",
                  "rawType": "float64",
                  "type": "float"
                },
                {
                  "name": "fatherBornUS",
                  "rawType": "float64",
                  "type": "float"
                },
                {
                  "name": "englishAtHome",
                  "rawType": "float64",
                  "type": "float"
                },
                {
                  "name": "computerForSchoolwork",
                  "rawType": "float64",
                  "type": "float"
                },
                {
                  "name": "read30MinsADay",
                  "rawType": "float64",
                  "type": "float"
                },
                {
                  "name": "minutesPerWeekEnglish",
                  "rawType": "float64",
                  "type": "float"
                },
                {
                  "name": "studentsInEnglish",
                  "rawType": "float64",
                  "type": "float"
                },
                {
                  "name": "schoolHasLibrary",
                  "rawType": "float64",
                  "type": "float"
                },
                {
                  "name": "publicSchool",
                  "rawType": "int64",
                  "type": "integer"
                },
                {
                  "name": "urban",
                  "rawType": "int64",
                  "type": "integer"
                },
                {
                  "name": "schoolSize",
                  "rawType": "float64",
                  "type": "float"
                },
                {
                  "name": "readingScore",
                  "rawType": "float64",
                  "type": "float"
                }
              ],
              "ref": "dcbeb7b1-c58f-4d18-b732-0866ebf0aff1",
              "rows": [
                [
                  "0",
                  "11",
                  "1",
                  null,
                  null,
                  "0.0",
                  null,
                  null,
                  "1.0",
                  null,
                  null,
                  "1.0",
                  "1.0",
                  "0.0",
                  "0.0",
                  "0.0",
                  "1.0",
                  "0.0",
                  "225.0",
                  null,
                  "1.0",
                  "1",
                  "1",
                  "673.0",
                  "476.0"
                ],
                [
                  "1",
                  "11",
                  "1",
                  "White",
                  "0.0",
                  "0.0",
                  "1.0",
                  "1.0",
                  "1.0",
                  "1.0",
                  "0.0",
                  "1.0",
                  "1.0",
                  "1.0",
                  "1.0",
                  "1.0",
                  "1.0",
                  "1.0",
                  "450.0",
                  "25.0",
                  "1.0",
                  "1",
                  "0",
                  "1173.0",
                  "575.01"
                ],
                [
                  "2",
                  "9",
                  "1",
                  "White",
                  "1.0",
                  "1.0",
                  "1.0",
                  "1.0",
                  "1.0",
                  "1.0",
                  null,
                  "1.0",
                  "1.0",
                  "1.0",
                  "1.0",
                  "1.0",
                  "1.0",
                  "0.0",
                  "250.0",
                  "28.0",
                  "1.0",
                  "1",
                  "0",
                  "1233.0",
                  "554.81"
                ],
                [
                  "3",
                  "10",
                  "0",
                  "Black",
                  "1.0",
                  "1.0",
                  "0.0",
                  "0.0",
                  "1.0",
                  "1.0",
                  "0.0",
                  "1.0",
                  "1.0",
                  "1.0",
                  "1.0",
                  "1.0",
                  "1.0",
                  "1.0",
                  "200.0",
                  "23.0",
                  "1.0",
                  "1",
                  "1",
                  "2640.0",
                  "458.11"
                ],
                [
                  "4",
                  "10",
                  "1",
                  "Hispanic",
                  "1.0",
                  "0.0",
                  "1.0",
                  "0.0",
                  "1.0",
                  "1.0",
                  "0.0",
                  "0.0",
                  "1.0",
                  "1.0",
                  "0.0",
                  "1.0",
                  "1.0",
                  "1.0",
                  "250.0",
                  "35.0",
                  "1.0",
                  "1",
                  "1",
                  "1095.0",
                  "613.89"
                ]
              ],
              "shape": {
                "columns": 24,
                "rows": 5
              }
            },
            "text/html": [
              "<div>\n",
              "<style scoped>\n",
              "    .dataframe tbody tr th:only-of-type {\n",
              "        vertical-align: middle;\n",
              "    }\n",
              "\n",
              "    .dataframe tbody tr th {\n",
              "        vertical-align: top;\n",
              "    }\n",
              "\n",
              "    .dataframe thead th {\n",
              "        text-align: right;\n",
              "    }\n",
              "</style>\n",
              "<table border=\"1\" class=\"dataframe\">\n",
              "  <thead>\n",
              "    <tr style=\"text-align: right;\">\n",
              "      <th></th>\n",
              "      <th>grade</th>\n",
              "      <th>male</th>\n",
              "      <th>raceeth</th>\n",
              "      <th>preschool</th>\n",
              "      <th>expectBachelors</th>\n",
              "      <th>motherHS</th>\n",
              "      <th>motherBachelors</th>\n",
              "      <th>motherWork</th>\n",
              "      <th>fatherHS</th>\n",
              "      <th>fatherBachelors</th>\n",
              "      <th>...</th>\n",
              "      <th>englishAtHome</th>\n",
              "      <th>computerForSchoolwork</th>\n",
              "      <th>read30MinsADay</th>\n",
              "      <th>minutesPerWeekEnglish</th>\n",
              "      <th>studentsInEnglish</th>\n",
              "      <th>schoolHasLibrary</th>\n",
              "      <th>publicSchool</th>\n",
              "      <th>urban</th>\n",
              "      <th>schoolSize</th>\n",
              "      <th>readingScore</th>\n",
              "    </tr>\n",
              "  </thead>\n",
              "  <tbody>\n",
              "    <tr>\n",
              "      <th>0</th>\n",
              "      <td>11</td>\n",
              "      <td>1</td>\n",
              "      <td>NaN</td>\n",
              "      <td>NaN</td>\n",
              "      <td>0.0</td>\n",
              "      <td>NaN</td>\n",
              "      <td>NaN</td>\n",
              "      <td>1.0</td>\n",
              "      <td>NaN</td>\n",
              "      <td>NaN</td>\n",
              "      <td>...</td>\n",
              "      <td>0.0</td>\n",
              "      <td>1.0</td>\n",
              "      <td>0.0</td>\n",
              "      <td>225.0</td>\n",
              "      <td>NaN</td>\n",
              "      <td>1.0</td>\n",
              "      <td>1</td>\n",
              "      <td>1</td>\n",
              "      <td>673.0</td>\n",
              "      <td>476.00</td>\n",
              "    </tr>\n",
              "    <tr>\n",
              "      <th>1</th>\n",
              "      <td>11</td>\n",
              "      <td>1</td>\n",
              "      <td>White</td>\n",
              "      <td>0.0</td>\n",
              "      <td>0.0</td>\n",
              "      <td>1.0</td>\n",
              "      <td>1.0</td>\n",
              "      <td>1.0</td>\n",
              "      <td>1.0</td>\n",
              "      <td>0.0</td>\n",
              "      <td>...</td>\n",
              "      <td>1.0</td>\n",
              "      <td>1.0</td>\n",
              "      <td>1.0</td>\n",
              "      <td>450.0</td>\n",
              "      <td>25.0</td>\n",
              "      <td>1.0</td>\n",
              "      <td>1</td>\n",
              "      <td>0</td>\n",
              "      <td>1173.0</td>\n",
              "      <td>575.01</td>\n",
              "    </tr>\n",
              "    <tr>\n",
              "      <th>2</th>\n",
              "      <td>9</td>\n",
              "      <td>1</td>\n",
              "      <td>White</td>\n",
              "      <td>1.0</td>\n",
              "      <td>1.0</td>\n",
              "      <td>1.0</td>\n",
              "      <td>1.0</td>\n",
              "      <td>1.0</td>\n",
              "      <td>1.0</td>\n",
              "      <td>NaN</td>\n",
              "      <td>...</td>\n",
              "      <td>1.0</td>\n",
              "      <td>1.0</td>\n",
              "      <td>0.0</td>\n",
              "      <td>250.0</td>\n",
              "      <td>28.0</td>\n",
              "      <td>1.0</td>\n",
              "      <td>1</td>\n",
              "      <td>0</td>\n",
              "      <td>1233.0</td>\n",
              "      <td>554.81</td>\n",
              "    </tr>\n",
              "    <tr>\n",
              "      <th>3</th>\n",
              "      <td>10</td>\n",
              "      <td>0</td>\n",
              "      <td>Black</td>\n",
              "      <td>1.0</td>\n",
              "      <td>1.0</td>\n",
              "      <td>0.0</td>\n",
              "      <td>0.0</td>\n",
              "      <td>1.0</td>\n",
              "      <td>1.0</td>\n",
              "      <td>0.0</td>\n",
              "      <td>...</td>\n",
              "      <td>1.0</td>\n",
              "      <td>1.0</td>\n",
              "      <td>1.0</td>\n",
              "      <td>200.0</td>\n",
              "      <td>23.0</td>\n",
              "      <td>1.0</td>\n",
              "      <td>1</td>\n",
              "      <td>1</td>\n",
              "      <td>2640.0</td>\n",
              "      <td>458.11</td>\n",
              "    </tr>\n",
              "    <tr>\n",
              "      <th>4</th>\n",
              "      <td>10</td>\n",
              "      <td>1</td>\n",
              "      <td>Hispanic</td>\n",
              "      <td>1.0</td>\n",
              "      <td>0.0</td>\n",
              "      <td>1.0</td>\n",
              "      <td>0.0</td>\n",
              "      <td>1.0</td>\n",
              "      <td>1.0</td>\n",
              "      <td>0.0</td>\n",
              "      <td>...</td>\n",
              "      <td>1.0</td>\n",
              "      <td>1.0</td>\n",
              "      <td>1.0</td>\n",
              "      <td>250.0</td>\n",
              "      <td>35.0</td>\n",
              "      <td>1.0</td>\n",
              "      <td>1</td>\n",
              "      <td>1</td>\n",
              "      <td>1095.0</td>\n",
              "      <td>613.89</td>\n",
              "    </tr>\n",
              "  </tbody>\n",
              "</table>\n",
              "<p>5 rows × 24 columns</p>\n",
              "</div>"
            ],
            "text/plain": [
              "   grade  male   raceeth  preschool  expectBachelors  motherHS  \\\n",
              "0     11     1       NaN        NaN              0.0       NaN   \n",
              "1     11     1     White        0.0              0.0       1.0   \n",
              "2      9     1     White        1.0              1.0       1.0   \n",
              "3     10     0     Black        1.0              1.0       0.0   \n",
              "4     10     1  Hispanic        1.0              0.0       1.0   \n",
              "\n",
              "   motherBachelors  motherWork  fatherHS  fatherBachelors  ...  englishAtHome  \\\n",
              "0              NaN         1.0       NaN              NaN  ...            0.0   \n",
              "1              1.0         1.0       1.0              0.0  ...            1.0   \n",
              "2              1.0         1.0       1.0              NaN  ...            1.0   \n",
              "3              0.0         1.0       1.0              0.0  ...            1.0   \n",
              "4              0.0         1.0       1.0              0.0  ...            1.0   \n",
              "\n",
              "   computerForSchoolwork  read30MinsADay  minutesPerWeekEnglish  \\\n",
              "0                    1.0             0.0                  225.0   \n",
              "1                    1.0             1.0                  450.0   \n",
              "2                    1.0             0.0                  250.0   \n",
              "3                    1.0             1.0                  200.0   \n",
              "4                    1.0             1.0                  250.0   \n",
              "\n",
              "   studentsInEnglish  schoolHasLibrary  publicSchool  urban  schoolSize  \\\n",
              "0                NaN               1.0             1      1       673.0   \n",
              "1               25.0               1.0             1      0      1173.0   \n",
              "2               28.0               1.0             1      0      1233.0   \n",
              "3               23.0               1.0             1      1      2640.0   \n",
              "4               35.0               1.0             1      1      1095.0   \n",
              "\n",
              "   readingScore  \n",
              "0        476.00  \n",
              "1        575.01  \n",
              "2        554.81  \n",
              "3        458.11  \n",
              "4        613.89  \n",
              "\n",
              "[5 rows x 24 columns]"
            ]
          },
          "execution_count": 4,
          "metadata": {},
          "output_type": "execute_result"
        }
      ],
      "source": [
        "df.head(5)"
      ]
    },
    {
      "cell_type": "code",
      "execution_count": null,
      "id": "36bf4a34",
      "metadata": {
        "id": "36bf4a34",
        "outputId": "4624859b-71a0-442d-8066-099f21741081"
      },
      "outputs": [
        {
          "data": {
            "text/plain": [
              "(3663, 24)"
            ]
          },
          "execution_count": 5,
          "metadata": {},
          "output_type": "execute_result"
        }
      ],
      "source": [
        "df.shape"
      ]
    },
    {
      "cell_type": "code",
      "execution_count": null,
      "id": "b8a03fbb",
      "metadata": {
        "id": "b8a03fbb"
      },
      "outputs": [],
      "source": [
        "df['nullValuesCount'] = df.isnull().sum(axis=1)"
      ]
    },
    {
      "cell_type": "code",
      "execution_count": null,
      "id": "de5dca52",
      "metadata": {
        "id": "de5dca52"
      },
      "outputs": [],
      "source": [
        "df = df[df['nullValuesCount'] == 0]"
      ]
    },
    {
      "cell_type": "code",
      "execution_count": null,
      "id": "0252b96e",
      "metadata": {
        "id": "0252b96e"
      },
      "outputs": [],
      "source": [
        "df.drop(columns=['nullValuesCount'], inplace=True)"
      ]
    },
    {
      "cell_type": "code",
      "execution_count": null,
      "id": "c86e6e21",
      "metadata": {
        "id": "c86e6e21",
        "outputId": "96a809f6-33a3-46d2-b74f-62ac69d79e8b"
      },
      "outputs": [
        {
          "data": {
            "text/plain": [
              "(2414, 24)"
            ]
          },
          "execution_count": 9,
          "metadata": {},
          "output_type": "execute_result"
        }
      ],
      "source": [
        "df.shape"
      ]
    },
    {
      "cell_type": "code",
      "execution_count": null,
      "id": "3d56eb4f",
      "metadata": {
        "id": "3d56eb4f",
        "outputId": "7800d25b-ffe1-4c86-e2ae-07d3adbaa09f"
      },
      "outputs": [
        {
          "data": {
            "application/vnd.microsoft.datawrangler.viewer.v0+json": {
              "columns": [
                {
                  "name": "index",
                  "rawType": "object",
                  "type": "string"
                },
                {
                  "name": "0",
                  "rawType": "int64",
                  "type": "integer"
                }
              ],
              "ref": "e12459e8-af11-430d-a410-e2a680ec4cc0",
              "rows": [
                [
                  "grade",
                  "0"
                ],
                [
                  "male",
                  "0"
                ],
                [
                  "raceeth",
                  "0"
                ],
                [
                  "preschool",
                  "0"
                ],
                [
                  "expectBachelors",
                  "0"
                ],
                [
                  "motherHS",
                  "0"
                ],
                [
                  "motherBachelors",
                  "0"
                ],
                [
                  "motherWork",
                  "0"
                ],
                [
                  "fatherHS",
                  "0"
                ],
                [
                  "fatherBachelors",
                  "0"
                ],
                [
                  "fatherWork",
                  "0"
                ],
                [
                  "selfBornUS",
                  "0"
                ],
                [
                  "motherBornUS",
                  "0"
                ],
                [
                  "fatherBornUS",
                  "0"
                ],
                [
                  "englishAtHome",
                  "0"
                ],
                [
                  "computerForSchoolwork",
                  "0"
                ],
                [
                  "read30MinsADay",
                  "0"
                ],
                [
                  "minutesPerWeekEnglish",
                  "0"
                ],
                [
                  "studentsInEnglish",
                  "0"
                ],
                [
                  "schoolHasLibrary",
                  "0"
                ],
                [
                  "publicSchool",
                  "0"
                ],
                [
                  "urban",
                  "0"
                ],
                [
                  "schoolSize",
                  "0"
                ],
                [
                  "readingScore",
                  "0"
                ]
              ],
              "shape": {
                "columns": 1,
                "rows": 24
              }
            },
            "text/plain": [
              "grade                    0\n",
              "male                     0\n",
              "raceeth                  0\n",
              "preschool                0\n",
              "expectBachelors          0\n",
              "motherHS                 0\n",
              "motherBachelors          0\n",
              "motherWork               0\n",
              "fatherHS                 0\n",
              "fatherBachelors          0\n",
              "fatherWork               0\n",
              "selfBornUS               0\n",
              "motherBornUS             0\n",
              "fatherBornUS             0\n",
              "englishAtHome            0\n",
              "computerForSchoolwork    0\n",
              "read30MinsADay           0\n",
              "minutesPerWeekEnglish    0\n",
              "studentsInEnglish        0\n",
              "schoolHasLibrary         0\n",
              "publicSchool             0\n",
              "urban                    0\n",
              "schoolSize               0\n",
              "readingScore             0\n",
              "dtype: int64"
            ]
          },
          "execution_count": 10,
          "metadata": {},
          "output_type": "execute_result"
        }
      ],
      "source": [
        "df.isnull().sum()"
      ]
    },
    {
      "cell_type": "code",
      "execution_count": null,
      "id": "c3f94644",
      "metadata": {
        "id": "c3f94644",
        "outputId": "67bd70bc-f2b8-4b37-a709-06e38919aa4b"
      },
      "outputs": [
        {
          "data": {
            "text/plain": [
              "np.int64(0)"
            ]
          },
          "execution_count": 11,
          "metadata": {},
          "output_type": "execute_result"
        }
      ],
      "source": [
        "df.duplicated().sum()"
      ]
    },
    {
      "cell_type": "code",
      "execution_count": null,
      "id": "574bc0d8",
      "metadata": {
        "id": "574bc0d8",
        "outputId": "eed0a38c-6cac-4c28-e1a3-d8d005bef242"
      },
      "outputs": [
        {
          "name": "stdout",
          "output_type": "stream",
          "text": [
            "<class 'pandas.core.frame.DataFrame'>\n",
            "Index: 2414 entries, 1 to 3662\n",
            "Data columns (total 24 columns):\n",
            " #   Column                 Non-Null Count  Dtype  \n",
            "---  ------                 --------------  -----  \n",
            " 0   grade                  2414 non-null   int64  \n",
            " 1   male                   2414 non-null   int64  \n",
            " 2   raceeth                2414 non-null   object \n",
            " 3   preschool              2414 non-null   float64\n",
            " 4   expectBachelors        2414 non-null   float64\n",
            " 5   motherHS               2414 non-null   float64\n",
            " 6   motherBachelors        2414 non-null   float64\n",
            " 7   motherWork             2414 non-null   float64\n",
            " 8   fatherHS               2414 non-null   float64\n",
            " 9   fatherBachelors        2414 non-null   float64\n",
            " 10  fatherWork             2414 non-null   float64\n",
            " 11  selfBornUS             2414 non-null   float64\n",
            " 12  motherBornUS           2414 non-null   float64\n",
            " 13  fatherBornUS           2414 non-null   float64\n",
            " 14  englishAtHome          2414 non-null   float64\n",
            " 15  computerForSchoolwork  2414 non-null   float64\n",
            " 16  read30MinsADay         2414 non-null   float64\n",
            " 17  minutesPerWeekEnglish  2414 non-null   float64\n",
            " 18  studentsInEnglish      2414 non-null   float64\n",
            " 19  schoolHasLibrary       2414 non-null   float64\n",
            " 20  publicSchool           2414 non-null   int64  \n",
            " 21  urban                  2414 non-null   int64  \n",
            " 22  schoolSize             2414 non-null   float64\n",
            " 23  readingScore           2414 non-null   float64\n",
            "dtypes: float64(19), int64(4), object(1)\n",
            "memory usage: 471.5+ KB\n"
          ]
        },
        {
          "data": {
            "application/vnd.microsoft.datawrangler.viewer.v0+json": {
              "columns": [
                {
                  "name": "index",
                  "rawType": "int64",
                  "type": "integer"
                },
                {
                  "name": "grade",
                  "rawType": "int64",
                  "type": "integer"
                },
                {
                  "name": "male",
                  "rawType": "int64",
                  "type": "integer"
                },
                {
                  "name": "raceeth",
                  "rawType": "object",
                  "type": "string"
                },
                {
                  "name": "preschool",
                  "rawType": "float64",
                  "type": "float"
                },
                {
                  "name": "expectBachelors",
                  "rawType": "float64",
                  "type": "float"
                },
                {
                  "name": "motherHS",
                  "rawType": "float64",
                  "type": "float"
                },
                {
                  "name": "motherBachelors",
                  "rawType": "float64",
                  "type": "float"
                },
                {
                  "name": "motherWork",
                  "rawType": "float64",
                  "type": "float"
                },
                {
                  "name": "fatherHS",
                  "rawType": "float64",
                  "type": "float"
                },
                {
                  "name": "fatherBachelors",
                  "rawType": "float64",
                  "type": "float"
                },
                {
                  "name": "fatherWork",
                  "rawType": "float64",
                  "type": "float"
                },
                {
                  "name": "selfBornUS",
                  "rawType": "float64",
                  "type": "float"
                },
                {
                  "name": "motherBornUS",
                  "rawType": "float64",
                  "type": "float"
                },
                {
                  "name": "fatherBornUS",
                  "rawType": "float64",
                  "type": "float"
                },
                {
                  "name": "englishAtHome",
                  "rawType": "float64",
                  "type": "float"
                },
                {
                  "name": "computerForSchoolwork",
                  "rawType": "float64",
                  "type": "float"
                },
                {
                  "name": "read30MinsADay",
                  "rawType": "float64",
                  "type": "float"
                },
                {
                  "name": "minutesPerWeekEnglish",
                  "rawType": "float64",
                  "type": "float"
                },
                {
                  "name": "studentsInEnglish",
                  "rawType": "float64",
                  "type": "float"
                },
                {
                  "name": "schoolHasLibrary",
                  "rawType": "float64",
                  "type": "float"
                },
                {
                  "name": "publicSchool",
                  "rawType": "int64",
                  "type": "integer"
                },
                {
                  "name": "urban",
                  "rawType": "int64",
                  "type": "integer"
                },
                {
                  "name": "schoolSize",
                  "rawType": "float64",
                  "type": "float"
                },
                {
                  "name": "readingScore",
                  "rawType": "float64",
                  "type": "float"
                }
              ],
              "ref": "e67e9b36-3b27-4d0d-87d8-6b46cbec4af1",
              "rows": [
                [
                  "1",
                  "11",
                  "1",
                  "White",
                  "0.0",
                  "0.0",
                  "1.0",
                  "1.0",
                  "1.0",
                  "1.0",
                  "0.0",
                  "1.0",
                  "1.0",
                  "1.0",
                  "1.0",
                  "1.0",
                  "1.0",
                  "1.0",
                  "450.0",
                  "25.0",
                  "1.0",
                  "1",
                  "0",
                  "1173.0",
                  "575.01"
                ],
                [
                  "3",
                  "10",
                  "0",
                  "Black",
                  "1.0",
                  "1.0",
                  "0.0",
                  "0.0",
                  "1.0",
                  "1.0",
                  "0.0",
                  "1.0",
                  "1.0",
                  "1.0",
                  "1.0",
                  "1.0",
                  "1.0",
                  "1.0",
                  "200.0",
                  "23.0",
                  "1.0",
                  "1",
                  "1",
                  "2640.0",
                  "458.11"
                ],
                [
                  "4",
                  "10",
                  "1",
                  "Hispanic",
                  "1.0",
                  "0.0",
                  "1.0",
                  "0.0",
                  "1.0",
                  "1.0",
                  "0.0",
                  "0.0",
                  "1.0",
                  "1.0",
                  "0.0",
                  "1.0",
                  "1.0",
                  "1.0",
                  "250.0",
                  "35.0",
                  "1.0",
                  "1",
                  "1",
                  "1095.0",
                  "613.89"
                ],
                [
                  "7",
                  "10",
                  "0",
                  "White",
                  "1.0",
                  "1.0",
                  "1.0",
                  "0.0",
                  "0.0",
                  "1.0",
                  "0.0",
                  "1.0",
                  "1.0",
                  "1.0",
                  "1.0",
                  "1.0",
                  "1.0",
                  "1.0",
                  "300.0",
                  "30.0",
                  "1.0",
                  "1",
                  "0",
                  "1913.0",
                  "439.36"
                ],
                [
                  "9",
                  "10",
                  "1",
                  "More than one race",
                  "1.0",
                  "1.0",
                  "1.0",
                  "1.0",
                  "1.0",
                  "0.0",
                  "0.0",
                  "1.0",
                  "1.0",
                  "1.0",
                  "1.0",
                  "1.0",
                  "1.0",
                  "0.0",
                  "294.0",
                  "24.0",
                  "1.0",
                  "1",
                  "0",
                  "899.0",
                  "465.9"
                ]
              ],
              "shape": {
                "columns": 24,
                "rows": 5
              }
            },
            "text/html": [
              "<div>\n",
              "<style scoped>\n",
              "    .dataframe tbody tr th:only-of-type {\n",
              "        vertical-align: middle;\n",
              "    }\n",
              "\n",
              "    .dataframe tbody tr th {\n",
              "        vertical-align: top;\n",
              "    }\n",
              "\n",
              "    .dataframe thead th {\n",
              "        text-align: right;\n",
              "    }\n",
              "</style>\n",
              "<table border=\"1\" class=\"dataframe\">\n",
              "  <thead>\n",
              "    <tr style=\"text-align: right;\">\n",
              "      <th></th>\n",
              "      <th>grade</th>\n",
              "      <th>male</th>\n",
              "      <th>raceeth</th>\n",
              "      <th>preschool</th>\n",
              "      <th>expectBachelors</th>\n",
              "      <th>motherHS</th>\n",
              "      <th>motherBachelors</th>\n",
              "      <th>motherWork</th>\n",
              "      <th>fatherHS</th>\n",
              "      <th>fatherBachelors</th>\n",
              "      <th>...</th>\n",
              "      <th>englishAtHome</th>\n",
              "      <th>computerForSchoolwork</th>\n",
              "      <th>read30MinsADay</th>\n",
              "      <th>minutesPerWeekEnglish</th>\n",
              "      <th>studentsInEnglish</th>\n",
              "      <th>schoolHasLibrary</th>\n",
              "      <th>publicSchool</th>\n",
              "      <th>urban</th>\n",
              "      <th>schoolSize</th>\n",
              "      <th>readingScore</th>\n",
              "    </tr>\n",
              "  </thead>\n",
              "  <tbody>\n",
              "    <tr>\n",
              "      <th>1</th>\n",
              "      <td>11</td>\n",
              "      <td>1</td>\n",
              "      <td>White</td>\n",
              "      <td>0.0</td>\n",
              "      <td>0.0</td>\n",
              "      <td>1.0</td>\n",
              "      <td>1.0</td>\n",
              "      <td>1.0</td>\n",
              "      <td>1.0</td>\n",
              "      <td>0.0</td>\n",
              "      <td>...</td>\n",
              "      <td>1.0</td>\n",
              "      <td>1.0</td>\n",
              "      <td>1.0</td>\n",
              "      <td>450.0</td>\n",
              "      <td>25.0</td>\n",
              "      <td>1.0</td>\n",
              "      <td>1</td>\n",
              "      <td>0</td>\n",
              "      <td>1173.0</td>\n",
              "      <td>575.01</td>\n",
              "    </tr>\n",
              "    <tr>\n",
              "      <th>3</th>\n",
              "      <td>10</td>\n",
              "      <td>0</td>\n",
              "      <td>Black</td>\n",
              "      <td>1.0</td>\n",
              "      <td>1.0</td>\n",
              "      <td>0.0</td>\n",
              "      <td>0.0</td>\n",
              "      <td>1.0</td>\n",
              "      <td>1.0</td>\n",
              "      <td>0.0</td>\n",
              "      <td>...</td>\n",
              "      <td>1.0</td>\n",
              "      <td>1.0</td>\n",
              "      <td>1.0</td>\n",
              "      <td>200.0</td>\n",
              "      <td>23.0</td>\n",
              "      <td>1.0</td>\n",
              "      <td>1</td>\n",
              "      <td>1</td>\n",
              "      <td>2640.0</td>\n",
              "      <td>458.11</td>\n",
              "    </tr>\n",
              "    <tr>\n",
              "      <th>4</th>\n",
              "      <td>10</td>\n",
              "      <td>1</td>\n",
              "      <td>Hispanic</td>\n",
              "      <td>1.0</td>\n",
              "      <td>0.0</td>\n",
              "      <td>1.0</td>\n",
              "      <td>0.0</td>\n",
              "      <td>1.0</td>\n",
              "      <td>1.0</td>\n",
              "      <td>0.0</td>\n",
              "      <td>...</td>\n",
              "      <td>1.0</td>\n",
              "      <td>1.0</td>\n",
              "      <td>1.0</td>\n",
              "      <td>250.0</td>\n",
              "      <td>35.0</td>\n",
              "      <td>1.0</td>\n",
              "      <td>1</td>\n",
              "      <td>1</td>\n",
              "      <td>1095.0</td>\n",
              "      <td>613.89</td>\n",
              "    </tr>\n",
              "    <tr>\n",
              "      <th>7</th>\n",
              "      <td>10</td>\n",
              "      <td>0</td>\n",
              "      <td>White</td>\n",
              "      <td>1.0</td>\n",
              "      <td>1.0</td>\n",
              "      <td>1.0</td>\n",
              "      <td>0.0</td>\n",
              "      <td>0.0</td>\n",
              "      <td>1.0</td>\n",
              "      <td>0.0</td>\n",
              "      <td>...</td>\n",
              "      <td>1.0</td>\n",
              "      <td>1.0</td>\n",
              "      <td>1.0</td>\n",
              "      <td>300.0</td>\n",
              "      <td>30.0</td>\n",
              "      <td>1.0</td>\n",
              "      <td>1</td>\n",
              "      <td>0</td>\n",
              "      <td>1913.0</td>\n",
              "      <td>439.36</td>\n",
              "    </tr>\n",
              "    <tr>\n",
              "      <th>9</th>\n",
              "      <td>10</td>\n",
              "      <td>1</td>\n",
              "      <td>More than one race</td>\n",
              "      <td>1.0</td>\n",
              "      <td>1.0</td>\n",
              "      <td>1.0</td>\n",
              "      <td>1.0</td>\n",
              "      <td>1.0</td>\n",
              "      <td>0.0</td>\n",
              "      <td>0.0</td>\n",
              "      <td>...</td>\n",
              "      <td>1.0</td>\n",
              "      <td>1.0</td>\n",
              "      <td>0.0</td>\n",
              "      <td>294.0</td>\n",
              "      <td>24.0</td>\n",
              "      <td>1.0</td>\n",
              "      <td>1</td>\n",
              "      <td>0</td>\n",
              "      <td>899.0</td>\n",
              "      <td>465.90</td>\n",
              "    </tr>\n",
              "  </tbody>\n",
              "</table>\n",
              "<p>5 rows × 24 columns</p>\n",
              "</div>"
            ],
            "text/plain": [
              "   grade  male             raceeth  preschool  expectBachelors  motherHS  \\\n",
              "1     11     1               White        0.0              0.0       1.0   \n",
              "3     10     0               Black        1.0              1.0       0.0   \n",
              "4     10     1            Hispanic        1.0              0.0       1.0   \n",
              "7     10     0               White        1.0              1.0       1.0   \n",
              "9     10     1  More than one race        1.0              1.0       1.0   \n",
              "\n",
              "   motherBachelors  motherWork  fatherHS  fatherBachelors  ...  englishAtHome  \\\n",
              "1              1.0         1.0       1.0              0.0  ...            1.0   \n",
              "3              0.0         1.0       1.0              0.0  ...            1.0   \n",
              "4              0.0         1.0       1.0              0.0  ...            1.0   \n",
              "7              0.0         0.0       1.0              0.0  ...            1.0   \n",
              "9              1.0         1.0       0.0              0.0  ...            1.0   \n",
              "\n",
              "   computerForSchoolwork  read30MinsADay  minutesPerWeekEnglish  \\\n",
              "1                    1.0             1.0                  450.0   \n",
              "3                    1.0             1.0                  200.0   \n",
              "4                    1.0             1.0                  250.0   \n",
              "7                    1.0             1.0                  300.0   \n",
              "9                    1.0             0.0                  294.0   \n",
              "\n",
              "   studentsInEnglish  schoolHasLibrary  publicSchool  urban  schoolSize  \\\n",
              "1               25.0               1.0             1      0      1173.0   \n",
              "3               23.0               1.0             1      1      2640.0   \n",
              "4               35.0               1.0             1      1      1095.0   \n",
              "7               30.0               1.0             1      0      1913.0   \n",
              "9               24.0               1.0             1      0       899.0   \n",
              "\n",
              "   readingScore  \n",
              "1        575.01  \n",
              "3        458.11  \n",
              "4        613.89  \n",
              "7        439.36  \n",
              "9        465.90  \n",
              "\n",
              "[5 rows x 24 columns]"
            ]
          },
          "execution_count": 14,
          "metadata": {},
          "output_type": "execute_result"
        }
      ],
      "source": [
        "df.info()\n",
        "\n",
        "df.head(5)"
      ]
    },
    {
      "cell_type": "code",
      "execution_count": null,
      "id": "80b9ba13",
      "metadata": {
        "id": "80b9ba13",
        "outputId": "034e4655-094e-42ad-f275-c5cc49d0f3d9"
      },
      "outputs": [
        {
          "data": {
            "text/plain": [
              "Index(['male', 'preschool', 'expectBachelors', 'motherHS', 'motherBachelors',\n",
              "       'motherWork', 'fatherHS', 'fatherBachelors', 'fatherWork', 'selfBornUS',\n",
              "       'motherBornUS', 'fatherBornUS', 'englishAtHome',\n",
              "       'computerForSchoolwork', 'read30MinsADay', 'schoolHasLibrary',\n",
              "       'publicSchool', 'urban'],\n",
              "      dtype='object')"
            ]
          },
          "execution_count": 24,
          "metadata": {},
          "output_type": "execute_result"
        }
      ],
      "source": [
        "# Storing True/False Columns in one variable for better readability\n",
        "bool_cols = df[['male', 'preschool', 'expectBachelors', 'motherHS',\n",
        "       'motherBachelors', 'motherWork', 'fatherHS', 'fatherBachelors',\n",
        "       'fatherWork', 'selfBornUS', 'motherBornUS', 'fatherBornUS',\n",
        "       'englishAtHome', 'computerForSchoolwork', 'read30MinsADay', 'schoolHasLibrary', 'publicSchool', 'urban']].columns\n",
        "bool_cols"
      ]
    },
    {
      "cell_type": "code",
      "execution_count": null,
      "id": "f712d558",
      "metadata": {
        "id": "f712d558",
        "outputId": "fe51d664-17f4-43a5-9e51-10d7af4d3457"
      },
      "outputs": [
        {
          "data": {
            "application/vnd.microsoft.datawrangler.viewer.v0+json": {
              "columns": [
                {
                  "name": "index",
                  "rawType": "object",
                  "type": "string"
                },
                {
                  "name": "male",
                  "rawType": "float64",
                  "type": "float"
                },
                {
                  "name": "preschool",
                  "rawType": "float64",
                  "type": "float"
                },
                {
                  "name": "expectBachelors",
                  "rawType": "float64",
                  "type": "float"
                },
                {
                  "name": "motherHS",
                  "rawType": "float64",
                  "type": "float"
                },
                {
                  "name": "motherBachelors",
                  "rawType": "float64",
                  "type": "float"
                },
                {
                  "name": "motherWork",
                  "rawType": "float64",
                  "type": "float"
                },
                {
                  "name": "fatherHS",
                  "rawType": "float64",
                  "type": "float"
                },
                {
                  "name": "fatherBachelors",
                  "rawType": "float64",
                  "type": "float"
                },
                {
                  "name": "fatherWork",
                  "rawType": "float64",
                  "type": "float"
                },
                {
                  "name": "selfBornUS",
                  "rawType": "float64",
                  "type": "float"
                },
                {
                  "name": "motherBornUS",
                  "rawType": "float64",
                  "type": "float"
                },
                {
                  "name": "fatherBornUS",
                  "rawType": "float64",
                  "type": "float"
                },
                {
                  "name": "englishAtHome",
                  "rawType": "float64",
                  "type": "float"
                },
                {
                  "name": "computerForSchoolwork",
                  "rawType": "float64",
                  "type": "float"
                },
                {
                  "name": "read30MinsADay",
                  "rawType": "float64",
                  "type": "float"
                },
                {
                  "name": "schoolHasLibrary",
                  "rawType": "float64",
                  "type": "float"
                },
                {
                  "name": "publicSchool",
                  "rawType": "float64",
                  "type": "float"
                },
                {
                  "name": "urban",
                  "rawType": "float64",
                  "type": "float"
                }
              ],
              "ref": "57fc8952-39fc-48f7-a4a7-f35cbd7f659c",
              "rows": [
                [
                  "count",
                  "2414.0",
                  "2414.0",
                  "2414.0",
                  "2414.0",
                  "2414.0",
                  "2414.0",
                  "2414.0",
                  "2414.0",
                  "2414.0",
                  "2414.0",
                  "2414.0",
                  "2414.0",
                  "2414.0",
                  "2414.0",
                  "2414.0",
                  "2414.0",
                  "2414.0",
                  "2414.0"
                ],
                [
                  "mean",
                  "0.5012427506213754",
                  "0.7274233637116818",
                  "0.8342999171499585",
                  "0.896023198011599",
                  "0.3637116818558409",
                  "0.7357083678541839",
                  "0.8740679370339686",
                  "0.3483844241922121",
                  "0.8570836785418393",
                  "0.9362054681027341",
                  "0.7899751449875725",
                  "0.7854183927091963",
                  "0.8815244407622204",
                  "0.9154929577464789",
                  "0.3015741507870754",
                  "0.9714167357083678",
                  "0.9175642087821044",
                  "0.3628831814415907"
                ],
                [
                  "std",
                  "0.5001020499870168",
                  "0.44537712630329845",
                  "0.3718882312631082",
                  "0.3052936889471275",
                  "0.48116670928714633",
                  "0.44104664851107883",
                  "0.33184152123698735",
                  "0.47655723287958013",
                  "0.35006000852978775",
                  "0.244437192049308",
                  "0.40741032614992034",
                  "0.41061683629738804",
                  "0.323237347702664",
                  "0.27820435665433274",
                  "0.45903645920268127",
                  "0.16666663805427248",
                  "0.275084493328513",
                  "0.4809311717739936"
                ],
                [
                  "min",
                  "0.0",
                  "0.0",
                  "0.0",
                  "0.0",
                  "0.0",
                  "0.0",
                  "0.0",
                  "0.0",
                  "0.0",
                  "0.0",
                  "0.0",
                  "0.0",
                  "0.0",
                  "0.0",
                  "0.0",
                  "0.0",
                  "0.0",
                  "0.0"
                ],
                [
                  "25%",
                  "0.0",
                  "0.0",
                  "1.0",
                  "1.0",
                  "0.0",
                  "0.0",
                  "1.0",
                  "0.0",
                  "1.0",
                  "1.0",
                  "1.0",
                  "1.0",
                  "1.0",
                  "1.0",
                  "0.0",
                  "1.0",
                  "1.0",
                  "0.0"
                ],
                [
                  "50%",
                  "1.0",
                  "1.0",
                  "1.0",
                  "1.0",
                  "0.0",
                  "1.0",
                  "1.0",
                  "0.0",
                  "1.0",
                  "1.0",
                  "1.0",
                  "1.0",
                  "1.0",
                  "1.0",
                  "0.0",
                  "1.0",
                  "1.0",
                  "0.0"
                ],
                [
                  "75%",
                  "1.0",
                  "1.0",
                  "1.0",
                  "1.0",
                  "1.0",
                  "1.0",
                  "1.0",
                  "1.0",
                  "1.0",
                  "1.0",
                  "1.0",
                  "1.0",
                  "1.0",
                  "1.0",
                  "1.0",
                  "1.0",
                  "1.0",
                  "1.0"
                ],
                [
                  "max",
                  "1.0",
                  "1.0",
                  "1.0",
                  "1.0",
                  "1.0",
                  "1.0",
                  "1.0",
                  "1.0",
                  "1.0",
                  "1.0",
                  "1.0",
                  "1.0",
                  "1.0",
                  "1.0",
                  "1.0",
                  "1.0",
                  "1.0",
                  "1.0"
                ]
              ],
              "shape": {
                "columns": 18,
                "rows": 8
              }
            },
            "text/html": [
              "<div>\n",
              "<style scoped>\n",
              "    .dataframe tbody tr th:only-of-type {\n",
              "        vertical-align: middle;\n",
              "    }\n",
              "\n",
              "    .dataframe tbody tr th {\n",
              "        vertical-align: top;\n",
              "    }\n",
              "\n",
              "    .dataframe thead th {\n",
              "        text-align: right;\n",
              "    }\n",
              "</style>\n",
              "<table border=\"1\" class=\"dataframe\">\n",
              "  <thead>\n",
              "    <tr style=\"text-align: right;\">\n",
              "      <th></th>\n",
              "      <th>male</th>\n",
              "      <th>preschool</th>\n",
              "      <th>expectBachelors</th>\n",
              "      <th>motherHS</th>\n",
              "      <th>motherBachelors</th>\n",
              "      <th>motherWork</th>\n",
              "      <th>fatherHS</th>\n",
              "      <th>fatherBachelors</th>\n",
              "      <th>fatherWork</th>\n",
              "      <th>selfBornUS</th>\n",
              "      <th>motherBornUS</th>\n",
              "      <th>fatherBornUS</th>\n",
              "      <th>englishAtHome</th>\n",
              "      <th>computerForSchoolwork</th>\n",
              "      <th>read30MinsADay</th>\n",
              "      <th>schoolHasLibrary</th>\n",
              "      <th>publicSchool</th>\n",
              "      <th>urban</th>\n",
              "    </tr>\n",
              "  </thead>\n",
              "  <tbody>\n",
              "    <tr>\n",
              "      <th>count</th>\n",
              "      <td>2414.000000</td>\n",
              "      <td>2414.000000</td>\n",
              "      <td>2414.000000</td>\n",
              "      <td>2414.000000</td>\n",
              "      <td>2414.000000</td>\n",
              "      <td>2414.000000</td>\n",
              "      <td>2414.000000</td>\n",
              "      <td>2414.000000</td>\n",
              "      <td>2414.000000</td>\n",
              "      <td>2414.000000</td>\n",
              "      <td>2414.000000</td>\n",
              "      <td>2414.000000</td>\n",
              "      <td>2414.000000</td>\n",
              "      <td>2414.000000</td>\n",
              "      <td>2414.000000</td>\n",
              "      <td>2414.000000</td>\n",
              "      <td>2414.000000</td>\n",
              "      <td>2414.000000</td>\n",
              "    </tr>\n",
              "    <tr>\n",
              "      <th>mean</th>\n",
              "      <td>0.501243</td>\n",
              "      <td>0.727423</td>\n",
              "      <td>0.834300</td>\n",
              "      <td>0.896023</td>\n",
              "      <td>0.363712</td>\n",
              "      <td>0.735708</td>\n",
              "      <td>0.874068</td>\n",
              "      <td>0.348384</td>\n",
              "      <td>0.857084</td>\n",
              "      <td>0.936205</td>\n",
              "      <td>0.789975</td>\n",
              "      <td>0.785418</td>\n",
              "      <td>0.881524</td>\n",
              "      <td>0.915493</td>\n",
              "      <td>0.301574</td>\n",
              "      <td>0.971417</td>\n",
              "      <td>0.917564</td>\n",
              "      <td>0.362883</td>\n",
              "    </tr>\n",
              "    <tr>\n",
              "      <th>std</th>\n",
              "      <td>0.500102</td>\n",
              "      <td>0.445377</td>\n",
              "      <td>0.371888</td>\n",
              "      <td>0.305294</td>\n",
              "      <td>0.481167</td>\n",
              "      <td>0.441047</td>\n",
              "      <td>0.331842</td>\n",
              "      <td>0.476557</td>\n",
              "      <td>0.350060</td>\n",
              "      <td>0.244437</td>\n",
              "      <td>0.407410</td>\n",
              "      <td>0.410617</td>\n",
              "      <td>0.323237</td>\n",
              "      <td>0.278204</td>\n",
              "      <td>0.459036</td>\n",
              "      <td>0.166667</td>\n",
              "      <td>0.275084</td>\n",
              "      <td>0.480931</td>\n",
              "    </tr>\n",
              "    <tr>\n",
              "      <th>min</th>\n",
              "      <td>0.000000</td>\n",
              "      <td>0.000000</td>\n",
              "      <td>0.000000</td>\n",
              "      <td>0.000000</td>\n",
              "      <td>0.000000</td>\n",
              "      <td>0.000000</td>\n",
              "      <td>0.000000</td>\n",
              "      <td>0.000000</td>\n",
              "      <td>0.000000</td>\n",
              "      <td>0.000000</td>\n",
              "      <td>0.000000</td>\n",
              "      <td>0.000000</td>\n",
              "      <td>0.000000</td>\n",
              "      <td>0.000000</td>\n",
              "      <td>0.000000</td>\n",
              "      <td>0.000000</td>\n",
              "      <td>0.000000</td>\n",
              "      <td>0.000000</td>\n",
              "    </tr>\n",
              "    <tr>\n",
              "      <th>25%</th>\n",
              "      <td>0.000000</td>\n",
              "      <td>0.000000</td>\n",
              "      <td>1.000000</td>\n",
              "      <td>1.000000</td>\n",
              "      <td>0.000000</td>\n",
              "      <td>0.000000</td>\n",
              "      <td>1.000000</td>\n",
              "      <td>0.000000</td>\n",
              "      <td>1.000000</td>\n",
              "      <td>1.000000</td>\n",
              "      <td>1.000000</td>\n",
              "      <td>1.000000</td>\n",
              "      <td>1.000000</td>\n",
              "      <td>1.000000</td>\n",
              "      <td>0.000000</td>\n",
              "      <td>1.000000</td>\n",
              "      <td>1.000000</td>\n",
              "      <td>0.000000</td>\n",
              "    </tr>\n",
              "    <tr>\n",
              "      <th>50%</th>\n",
              "      <td>1.000000</td>\n",
              "      <td>1.000000</td>\n",
              "      <td>1.000000</td>\n",
              "      <td>1.000000</td>\n",
              "      <td>0.000000</td>\n",
              "      <td>1.000000</td>\n",
              "      <td>1.000000</td>\n",
              "      <td>0.000000</td>\n",
              "      <td>1.000000</td>\n",
              "      <td>1.000000</td>\n",
              "      <td>1.000000</td>\n",
              "      <td>1.000000</td>\n",
              "      <td>1.000000</td>\n",
              "      <td>1.000000</td>\n",
              "      <td>0.000000</td>\n",
              "      <td>1.000000</td>\n",
              "      <td>1.000000</td>\n",
              "      <td>0.000000</td>\n",
              "    </tr>\n",
              "    <tr>\n",
              "      <th>75%</th>\n",
              "      <td>1.000000</td>\n",
              "      <td>1.000000</td>\n",
              "      <td>1.000000</td>\n",
              "      <td>1.000000</td>\n",
              "      <td>1.000000</td>\n",
              "      <td>1.000000</td>\n",
              "      <td>1.000000</td>\n",
              "      <td>1.000000</td>\n",
              "      <td>1.000000</td>\n",
              "      <td>1.000000</td>\n",
              "      <td>1.000000</td>\n",
              "      <td>1.000000</td>\n",
              "      <td>1.000000</td>\n",
              "      <td>1.000000</td>\n",
              "      <td>1.000000</td>\n",
              "      <td>1.000000</td>\n",
              "      <td>1.000000</td>\n",
              "      <td>1.000000</td>\n",
              "    </tr>\n",
              "    <tr>\n",
              "      <th>max</th>\n",
              "      <td>1.000000</td>\n",
              "      <td>1.000000</td>\n",
              "      <td>1.000000</td>\n",
              "      <td>1.000000</td>\n",
              "      <td>1.000000</td>\n",
              "      <td>1.000000</td>\n",
              "      <td>1.000000</td>\n",
              "      <td>1.000000</td>\n",
              "      <td>1.000000</td>\n",
              "      <td>1.000000</td>\n",
              "      <td>1.000000</td>\n",
              "      <td>1.000000</td>\n",
              "      <td>1.000000</td>\n",
              "      <td>1.000000</td>\n",
              "      <td>1.000000</td>\n",
              "      <td>1.000000</td>\n",
              "      <td>1.000000</td>\n",
              "      <td>1.000000</td>\n",
              "    </tr>\n",
              "  </tbody>\n",
              "</table>\n",
              "</div>"
            ],
            "text/plain": [
              "              male    preschool  expectBachelors     motherHS  \\\n",
              "count  2414.000000  2414.000000      2414.000000  2414.000000   \n",
              "mean      0.501243     0.727423         0.834300     0.896023   \n",
              "std       0.500102     0.445377         0.371888     0.305294   \n",
              "min       0.000000     0.000000         0.000000     0.000000   \n",
              "25%       0.000000     0.000000         1.000000     1.000000   \n",
              "50%       1.000000     1.000000         1.000000     1.000000   \n",
              "75%       1.000000     1.000000         1.000000     1.000000   \n",
              "max       1.000000     1.000000         1.000000     1.000000   \n",
              "\n",
              "       motherBachelors   motherWork     fatherHS  fatherBachelors  \\\n",
              "count      2414.000000  2414.000000  2414.000000      2414.000000   \n",
              "mean          0.363712     0.735708     0.874068         0.348384   \n",
              "std           0.481167     0.441047     0.331842         0.476557   \n",
              "min           0.000000     0.000000     0.000000         0.000000   \n",
              "25%           0.000000     0.000000     1.000000         0.000000   \n",
              "50%           0.000000     1.000000     1.000000         0.000000   \n",
              "75%           1.000000     1.000000     1.000000         1.000000   \n",
              "max           1.000000     1.000000     1.000000         1.000000   \n",
              "\n",
              "        fatherWork   selfBornUS  motherBornUS  fatherBornUS  englishAtHome  \\\n",
              "count  2414.000000  2414.000000   2414.000000   2414.000000    2414.000000   \n",
              "mean      0.857084     0.936205      0.789975      0.785418       0.881524   \n",
              "std       0.350060     0.244437      0.407410      0.410617       0.323237   \n",
              "min       0.000000     0.000000      0.000000      0.000000       0.000000   \n",
              "25%       1.000000     1.000000      1.000000      1.000000       1.000000   \n",
              "50%       1.000000     1.000000      1.000000      1.000000       1.000000   \n",
              "75%       1.000000     1.000000      1.000000      1.000000       1.000000   \n",
              "max       1.000000     1.000000      1.000000      1.000000       1.000000   \n",
              "\n",
              "       computerForSchoolwork  read30MinsADay  schoolHasLibrary  publicSchool  \\\n",
              "count            2414.000000     2414.000000       2414.000000   2414.000000   \n",
              "mean                0.915493        0.301574          0.971417      0.917564   \n",
              "std                 0.278204        0.459036          0.166667      0.275084   \n",
              "min                 0.000000        0.000000          0.000000      0.000000   \n",
              "25%                 1.000000        0.000000          1.000000      1.000000   \n",
              "50%                 1.000000        0.000000          1.000000      1.000000   \n",
              "75%                 1.000000        1.000000          1.000000      1.000000   \n",
              "max                 1.000000        1.000000          1.000000      1.000000   \n",
              "\n",
              "             urban  \n",
              "count  2414.000000  \n",
              "mean      0.362883  \n",
              "std       0.480931  \n",
              "min       0.000000  \n",
              "25%       0.000000  \n",
              "50%       0.000000  \n",
              "75%       1.000000  \n",
              "max       1.000000  "
            ]
          },
          "execution_count": 25,
          "metadata": {},
          "output_type": "execute_result"
        }
      ],
      "source": [
        "df[bool_cols].describe()"
      ]
    },
    {
      "cell_type": "code",
      "execution_count": null,
      "id": "84de625c",
      "metadata": {
        "id": "84de625c",
        "outputId": "c18cae4f-099e-4665-a016-8f87122dbe47"
      },
      "outputs": [
        {
          "data": {
            "text/plain": [
              "<Axes: >"
            ]
          },
          "execution_count": 23,
          "metadata": {},
          "output_type": "execute_result"
        },
        {
          "data": {
            "image/png": "[encoded data removed]",
            "text/plain": [
              "<Figure size 1500x1000 with 1 Axes>"
            ]
          },
          "metadata": {},
          "output_type": "display_data"
        }
      ],
      "source": [
        "df[bool_cols].boxplot(figsize=(15, 10), rot=90)"
      ]
    },
    {
      "cell_type": "code",
      "execution_count": null,
      "id": "680987d2",
      "metadata": {
        "id": "680987d2",
        "outputId": "752177dc-17f5-4b0d-ca58-514c1700e449"
      },
      "outputs": [
        {
          "data": {
            "application/vnd.microsoft.datawrangler.viewer.v0+json": {
              "columns": [
                {
                  "name": "index",
                  "rawType": "int64",
                  "type": "integer"
                },
                {
                  "name": "Column Name",
                  "rawType": "object",
                  "type": "string"
                },
                {
                  "name": "True Sum",
                  "rawType": "float64",
                  "type": "float"
                },
                {
                  "name": "False Sum",
                  "rawType": "float64",
                  "type": "float"
                },
                {
                  "name": "Total",
                  "rawType": "float64",
                  "type": "float"
                },
                {
                  "name": "True Perc",
                  "rawType": "float64",
                  "type": "float"
                },
                {
                  "name": "False Perc",
                  "rawType": "float64",
                  "type": "float"
                }
              ],
              "ref": "efa36fae-0a0a-4348-865e-9f25c6cc1820",
              "rows": [
                [
                  "0",
                  "male",
                  "1210.0",
                  "1204.0",
                  "2414.0",
                  "50.12",
                  "49.88"
                ],
                [
                  "1",
                  "preschool",
                  "1756.0",
                  "658.0",
                  "2414.0",
                  "72.74",
                  "27.26"
                ],
                [
                  "2",
                  "expectBachelors",
                  "2014.0",
                  "400.0",
                  "2414.0",
                  "83.43",
                  "16.57"
                ],
                [
                  "3",
                  "motherHS",
                  "2163.0",
                  "251.0",
                  "2414.0",
                  "89.6",
                  "10.4"
                ],
                [
                  "4",
                  "motherBachelors",
                  "878.0",
                  "1536.0",
                  "2414.0",
                  "36.37",
                  "63.63"
                ],
                [
                  "5",
                  "motherWork",
                  "1776.0",
                  "638.0",
                  "2414.0",
                  "73.57",
                  "26.43"
                ],
                [
                  "6",
                  "fatherHS",
                  "2110.0",
                  "304.0",
                  "2414.0",
                  "87.41",
                  "12.59"
                ],
                [
                  "7",
                  "fatherBachelors",
                  "841.0",
                  "1573.0",
                  "2414.0",
                  "34.84",
                  "65.16"
                ],
                [
                  "8",
                  "fatherWork",
                  "2069.0",
                  "345.0",
                  "2414.0",
                  "85.71",
                  "14.29"
                ],
                [
                  "9",
                  "selfBornUS",
                  "2260.0",
                  "154.0",
                  "2414.0",
                  "93.62",
                  "6.38"
                ],
                [
                  "10",
                  "motherBornUS",
                  "1907.0",
                  "507.0",
                  "2414.0",
                  "79.0",
                  "21.0"
                ],
                [
                  "11",
                  "fatherBornUS",
                  "1896.0",
                  "518.0",
                  "2414.0",
                  "78.54",
                  "21.46"
                ],
                [
                  "12",
                  "englishAtHome",
                  "2128.0",
                  "286.0",
                  "2414.0",
                  "88.15",
                  "11.85"
                ],
                [
                  "13",
                  "computerForSchoolwork",
                  "2210.0",
                  "204.0",
                  "2414.0",
                  "91.55",
                  "8.45"
                ],
                [
                  "14",
                  "read30MinsADay",
                  "728.0",
                  "1686.0",
                  "2414.0",
                  "30.16",
                  "69.84"
                ],
                [
                  "15",
                  "schoolHasLibrary",
                  "2345.0",
                  "69.0",
                  "2414.0",
                  "97.14",
                  "2.86"
                ],
                [
                  "16",
                  "publicSchool",
                  "2215.0",
                  "199.0",
                  "2414.0",
                  "91.76",
                  "8.24"
                ],
                [
                  "17",
                  "urban",
                  "876.0",
                  "1538.0",
                  "2414.0",
                  "36.29",
                  "63.71"
                ]
              ],
              "shape": {
                "columns": 6,
                "rows": 18
              }
            },
            "text/html": [
              "<div>\n",
              "<style scoped>\n",
              "    .dataframe tbody tr th:only-of-type {\n",
              "        vertical-align: middle;\n",
              "    }\n",
              "\n",
              "    .dataframe tbody tr th {\n",
              "        vertical-align: top;\n",
              "    }\n",
              "\n",
              "    .dataframe thead th {\n",
              "        text-align: right;\n",
              "    }\n",
              "</style>\n",
              "<table border=\"1\" class=\"dataframe\">\n",
              "  <thead>\n",
              "    <tr style=\"text-align: right;\">\n",
              "      <th></th>\n",
              "      <th>Column Name</th>\n",
              "      <th>True Sum</th>\n",
              "      <th>False Sum</th>\n",
              "      <th>Total</th>\n",
              "      <th>True Perc</th>\n",
              "      <th>False Perc</th>\n",
              "    </tr>\n",
              "  </thead>\n",
              "  <tbody>\n",
              "    <tr>\n",
              "      <th>0</th>\n",
              "      <td>male</td>\n",
              "      <td>1210.0</td>\n",
              "      <td>1204.0</td>\n",
              "      <td>2414.0</td>\n",
              "      <td>50.12</td>\n",
              "      <td>49.88</td>\n",
              "    </tr>\n",
              "    <tr>\n",
              "      <th>1</th>\n",
              "      <td>preschool</td>\n",
              "      <td>1756.0</td>\n",
              "      <td>658.0</td>\n",
              "      <td>2414.0</td>\n",
              "      <td>72.74</td>\n",
              "      <td>27.26</td>\n",
              "    </tr>\n",
              "    <tr>\n",
              "      <th>2</th>\n",
              "      <td>expectBachelors</td>\n",
              "      <td>2014.0</td>\n",
              "      <td>400.0</td>\n",
              "      <td>2414.0</td>\n",
              "      <td>83.43</td>\n",
              "      <td>16.57</td>\n",
              "    </tr>\n",
              "    <tr>\n",
              "      <th>3</th>\n",
              "      <td>motherHS</td>\n",
              "      <td>2163.0</td>\n",
              "      <td>251.0</td>\n",
              "      <td>2414.0</td>\n",
              "      <td>89.60</td>\n",
              "      <td>10.40</td>\n",
              "    </tr>\n",
              "    <tr>\n",
              "      <th>4</th>\n",
              "      <td>motherBachelors</td>\n",
              "      <td>878.0</td>\n",
              "      <td>1536.0</td>\n",
              "      <td>2414.0</td>\n",
              "      <td>36.37</td>\n",
              "      <td>63.63</td>\n",
              "    </tr>\n",
              "    <tr>\n",
              "      <th>5</th>\n",
              "      <td>motherWork</td>\n",
              "      <td>1776.0</td>\n",
              "      <td>638.0</td>\n",
              "      <td>2414.0</td>\n",
              "      <td>73.57</td>\n",
              "      <td>26.43</td>\n",
              "    </tr>\n",
              "    <tr>\n",
              "      <th>6</th>\n",
              "      <td>fatherHS</td>\n",
              "      <td>2110.0</td>\n",
              "      <td>304.0</td>\n",
              "      <td>2414.0</td>\n",
              "      <td>87.41</td>\n",
              "      <td>12.59</td>\n",
              "    </tr>\n",
              "    <tr>\n",
              "      <th>7</th>\n",
              "      <td>fatherBachelors</td>\n",
              "      <td>841.0</td>\n",
              "      <td>1573.0</td>\n",
              "      <td>2414.0</td>\n",
              "      <td>34.84</td>\n",
              "      <td>65.16</td>\n",
              "    </tr>\n",
              "    <tr>\n",
              "      <th>8</th>\n",
              "      <td>fatherWork</td>\n",
              "      <td>2069.0</td>\n",
              "      <td>345.0</td>\n",
              "      <td>2414.0</td>\n",
              "      <td>85.71</td>\n",
              "      <td>14.29</td>\n",
              "    </tr>\n",
              "    <tr>\n",
              "      <th>9</th>\n",
              "      <td>selfBornUS</td>\n",
              "      <td>2260.0</td>\n",
              "      <td>154.0</td>\n",
              "      <td>2414.0</td>\n",
              "      <td>93.62</td>\n",
              "      <td>6.38</td>\n",
              "    </tr>\n",
              "    <tr>\n",
              "      <th>10</th>\n",
              "      <td>motherBornUS</td>\n",
              "      <td>1907.0</td>\n",
              "      <td>507.0</td>\n",
              "      <td>2414.0</td>\n",
              "      <td>79.00</td>\n",
              "      <td>21.00</td>\n",
              "    </tr>\n",
              "    <tr>\n",
              "      <th>11</th>\n",
              "      <td>fatherBornUS</td>\n",
              "      <td>1896.0</td>\n",
              "      <td>518.0</td>\n",
              "      <td>2414.0</td>\n",
              "      <td>78.54</td>\n",
              "      <td>21.46</td>\n",
              "    </tr>\n",
              "    <tr>\n",
              "      <th>12</th>\n",
              "      <td>englishAtHome</td>\n",
              "      <td>2128.0</td>\n",
              "      <td>286.0</td>\n",
              "      <td>2414.0</td>\n",
              "      <td>88.15</td>\n",
              "      <td>11.85</td>\n",
              "    </tr>\n",
              "    <tr>\n",
              "      <th>13</th>\n",
              "      <td>computerForSchoolwork</td>\n",
              "      <td>2210.0</td>\n",
              "      <td>204.0</td>\n",
              "      <td>2414.0</td>\n",
              "      <td>91.55</td>\n",
              "      <td>8.45</td>\n",
              "    </tr>\n",
              "    <tr>\n",
              "      <th>14</th>\n",
              "      <td>read30MinsADay</td>\n",
              "      <td>728.0</td>\n",
              "      <td>1686.0</td>\n",
              "      <td>2414.0</td>\n",
              "      <td>30.16</td>\n",
              "      <td>69.84</td>\n",
              "    </tr>\n",
              "    <tr>\n",
              "      <th>15</th>\n",
              "      <td>schoolHasLibrary</td>\n",
              "      <td>2345.0</td>\n",
              "      <td>69.0</td>\n",
              "      <td>2414.0</td>\n",
              "      <td>97.14</td>\n",
              "      <td>2.86</td>\n",
              "    </tr>\n",
              "    <tr>\n",
              "      <th>16</th>\n",
              "      <td>publicSchool</td>\n",
              "      <td>2215.0</td>\n",
              "      <td>199.0</td>\n",
              "      <td>2414.0</td>\n",
              "      <td>91.76</td>\n",
              "      <td>8.24</td>\n",
              "    </tr>\n",
              "    <tr>\n",
              "      <th>17</th>\n",
              "      <td>urban</td>\n",
              "      <td>876.0</td>\n",
              "      <td>1538.0</td>\n",
              "      <td>2414.0</td>\n",
              "      <td>36.29</td>\n",
              "      <td>63.71</td>\n",
              "    </tr>\n",
              "  </tbody>\n",
              "</table>\n",
              "</div>"
            ],
            "text/plain": [
              "              Column Name  True Sum  False Sum   Total  True Perc  False Perc\n",
              "0                    male    1210.0     1204.0  2414.0      50.12       49.88\n",
              "1               preschool    1756.0      658.0  2414.0      72.74       27.26\n",
              "2         expectBachelors    2014.0      400.0  2414.0      83.43       16.57\n",
              "3                motherHS    2163.0      251.0  2414.0      89.60       10.40\n",
              "4         motherBachelors     878.0     1536.0  2414.0      36.37       63.63\n",
              "5              motherWork    1776.0      638.0  2414.0      73.57       26.43\n",
              "6                fatherHS    2110.0      304.0  2414.0      87.41       12.59\n",
              "7         fatherBachelors     841.0     1573.0  2414.0      34.84       65.16\n",
              "8              fatherWork    2069.0      345.0  2414.0      85.71       14.29\n",
              "9              selfBornUS    2260.0      154.0  2414.0      93.62        6.38\n",
              "10           motherBornUS    1907.0      507.0  2414.0      79.00       21.00\n",
              "11           fatherBornUS    1896.0      518.0  2414.0      78.54       21.46\n",
              "12          englishAtHome    2128.0      286.0  2414.0      88.15       11.85\n",
              "13  computerForSchoolwork    2210.0      204.0  2414.0      91.55        8.45\n",
              "14         read30MinsADay     728.0     1686.0  2414.0      30.16       69.84\n",
              "15       schoolHasLibrary    2345.0       69.0  2414.0      97.14        2.86\n",
              "16           publicSchool    2215.0      199.0  2414.0      91.76        8.24\n",
              "17                  urban     876.0     1538.0  2414.0      36.29       63.71"
            ]
          },
          "execution_count": 58,
          "metadata": {},
          "output_type": "execute_result"
        }
      ],
      "source": [
        "table_insights = pd.DataFrame(df[bool_cols].sum())\n",
        "table_insights.rename(columns={0: 'True Sum'}, inplace=True)\n",
        "table_insights['False Sum'] = (df[bool_cols].count() - df[bool_cols].sum()).values\n",
        "table_insights['Total'] = table_insights['True Sum'] + table_insights['False Sum']\n",
        "table_insights.reset_index(inplace=True)\n",
        "table_insights.rename(columns={'index': 'Column Name'}, inplace=True)\n",
        "\n",
        "table_insights['True Perc'] = round((table_insights['True Sum'] / table_insights['Total']) * 100, 2)\n",
        "table_insights['False Perc'] = round((table_insights['False Sum'] / table_insights['Total']) * 100, 2)\n",
        "\n",
        "table_insights"
      ]
    }
  ],
  "metadata": {
    "kernelspec": {
      "display_name": "Python 3",
      "language": "python",
      "name": "python3"
    },
    "language_info": {
      "codemirror_mode": {
        "name": "ipython",
        "version": 3
      },
      "file_extension": ".py",
      "mimetype": "text/x-python",
      "name": "python",
      "nbconvert_exporter": "python",
      "pygments_lexer": "ipython3",
      "version": "3.12.8"
    },
    "colab": {
      "provenance": []
    }
  },
  "nbformat": 4,
  "nbformat_minor": 5
}